{
  "nbformat": 4,
  "nbformat_minor": 0,
  "metadata": {
    "colab": {
      "name": "Untitled1.ipynb",
      "provenance": [],
      "authorship_tag": "ABX9TyM+YCM6n30ET/P2NcFlLhnh",
      "include_colab_link": true
    },
    "kernelspec": {
      "name": "python3",
      "display_name": "Python 3"
    }
  },
  "cells": [
    {
      "cell_type": "markdown",
      "metadata": {
        "id": "view-in-github",
        "colab_type": "text"
      },
      "source": [
        "<a href=\"https://colab.research.google.com/github/Anika2577/Oop-lab/blob/main/Untitled1.ipynb\" target=\"_parent\"><img src=\"https://colab.research.google.com/assets/colab-badge.svg\" alt=\"Open In Colab\"/></a>"
      ]
    },
    {
      "cell_type": "markdown",
      "metadata": {
        "id": "JGt8T1K90sNm"
      },
      "source": [
        "\n",
        "**First python program**"
      ]
    },
    {
      "cell_type": "code",
      "metadata": {
        "id": "b-FJsJrF07Ty",
        "outputId": "bce0a2d4-5910-482e-9a34-a32bf5ad4245",
        "colab": {
          "base_uri": "https://localhost:8080/",
          "height": 34
        }
      },
      "source": [
        "print(\"Anika\")"
      ],
      "execution_count": 1,
      "outputs": [
        {
          "output_type": "stream",
          "text": [
            "Anika\n"
          ],
          "name": "stdout"
        }
      ]
    },
    {
      "cell_type": "markdown",
      "metadata": {
        "id": "8aW6Tj2j11jq"
      },
      "source": [
        "\n",
        "**Variables and Assignment statements**"
      ]
    },
    {
      "cell_type": "code",
      "metadata": {
        "id": "Yg9AuC8j17Dq",
        "outputId": "a367c5ee-9cb5-4318-ce71-a7c09d173547",
        "colab": {
          "base_uri": "https://localhost:8080/",
          "height": 34
        }
      },
      "source": [
        "\n",
        "m=2\n",
        "n=4\n",
        "print(m+n)"
      ],
      "execution_count": 3,
      "outputs": [
        {
          "output_type": "stream",
          "text": [
            "6\n"
          ],
          "name": "stdout"
        }
      ]
    },
    {
      "cell_type": "code",
      "metadata": {
        "id": "QxrICcgl2Gdz",
        "outputId": "7a9dcdaa-a579-4afb-9d69-92418b1495a6",
        "colab": {
          "base_uri": "https://localhost:8080/",
          "height": 34
        }
      },
      "source": [
        "name=\"Anika\"\n",
        "name2=\"tafannum\"\n",
        "print(name,name2)"
      ],
      "execution_count": 4,
      "outputs": [
        {
          "output_type": "stream",
          "text": [
            "Anika tafannum\n"
          ],
          "name": "stdout"
        }
      ]
    },
    {
      "cell_type": "markdown",
      "metadata": {
        "id": "dLxdM7ks2YPn"
      },
      "source": [
        "\n",
        "**Type**"
      ]
    },
    {
      "cell_type": "code",
      "metadata": {
        "id": "eED9lGi72hPg",
        "outputId": "bf7fb807-60aa-4063-a8c2-7831d4ede6bd",
        "colab": {
          "base_uri": "https://localhost:8080/",
          "height": 34
        }
      },
      "source": [
        "m=10\n",
        "type(m)"
      ],
      "execution_count": 5,
      "outputs": [
        {
          "output_type": "execute_result",
          "data": {
            "text/plain": [
              "int"
            ]
          },
          "metadata": {
            "tags": []
          },
          "execution_count": 5
        }
      ]
    },
    {
      "cell_type": "code",
      "metadata": {
        "id": "gNWSMxzn2tZi",
        "outputId": "2ff18dae-2f63-4570-f94d-4d0ce82135d0",
        "colab": {
          "base_uri": "https://localhost:8080/",
          "height": 34
        }
      },
      "source": [
        "type(3.1416)"
      ],
      "execution_count": 6,
      "outputs": [
        {
          "output_type": "execute_result",
          "data": {
            "text/plain": [
              "float"
            ]
          },
          "metadata": {
            "tags": []
          },
          "execution_count": 6
        }
      ]
    },
    {
      "cell_type": "code",
      "metadata": {
        "id": "d_dtnXcj21iW",
        "outputId": "d134f28c-0fed-4d59-e221-1df3c3fa2df1",
        "colab": {
          "base_uri": "https://localhost:8080/",
          "height": 34
        }
      },
      "source": [
        "type(name)"
      ],
      "execution_count": 7,
      "outputs": [
        {
          "output_type": "execute_result",
          "data": {
            "text/plain": [
              "str"
            ]
          },
          "metadata": {
            "tags": []
          },
          "execution_count": 7
        }
      ]
    },
    {
      "cell_type": "markdown",
      "metadata": {
        "id": "LgKNfDD628UH"
      },
      "source": [
        "**Arithmetic operators**"
      ]
    },
    {
      "cell_type": "code",
      "metadata": {
        "id": "5amX99k83KFo",
        "outputId": "aaab3537-d2db-420a-ae5c-813c879ab481",
        "colab": {
          "base_uri": "https://localhost:8080/",
          "height": 34
        }
      },
      "source": [
        "sum=20+20\n",
        "print(sum)"
      ],
      "execution_count": 8,
      "outputs": [
        {
          "output_type": "stream",
          "text": [
            "40\n"
          ],
          "name": "stdout"
        }
      ]
    },
    {
      "cell_type": "code",
      "metadata": {
        "id": "azVd9MpK3XKs",
        "outputId": "d23515c4-d66a-4875-cf5b-ccb0f6b5b99f",
        "colab": {
          "base_uri": "https://localhost:8080/",
          "height": 34
        }
      },
      "source": [
        "sub=20-30\n",
        "print(sub)"
      ],
      "execution_count": 9,
      "outputs": [
        {
          "output_type": "stream",
          "text": [
            "-10\n"
          ],
          "name": "stdout"
        }
      ]
    },
    {
      "cell_type": "code",
      "metadata": {
        "id": "hIlEG3Yt3trN",
        "outputId": "a2b2ae43-381b-46bc-9719-1771411bed7e",
        "colab": {
          "base_uri": "https://localhost:8080/",
          "height": 34
        }
      },
      "source": [
        "multi=10*10\n",
        "print(multi)"
      ],
      "execution_count": 10,
      "outputs": [
        {
          "output_type": "stream",
          "text": [
            "100\n"
          ],
          "name": "stdout"
        }
      ]
    },
    {
      "cell_type": "code",
      "metadata": {
        "id": "wqs4TN6M4bop",
        "outputId": "8eb6769f-60d6-434f-a4f2-ddfe72467f04",
        "colab": {
          "base_uri": "https://localhost:8080/",
          "height": 34
        }
      },
      "source": [
        "exponentiation=30**2\n",
        "print(exponentiation)"
      ],
      "execution_count": 11,
      "outputs": [
        {
          "output_type": "stream",
          "text": [
            "900\n"
          ],
          "name": "stdout"
        }
      ]
    },
    {
      "cell_type": "markdown",
      "metadata": {
        "id": "Y7Ozo6Os5P5C"
      },
      "source": [
        "\n",
        "**True division vs Floor divition**"
      ]
    },
    {
      "cell_type": "code",
      "metadata": {
        "id": "yCdXnXRg5Yg8",
        "outputId": "8b198ef4-412b-4577-b47b-caa01fdeec83",
        "colab": {
          "base_uri": "https://localhost:8080/",
          "height": 34
        }
      },
      "source": [
        "True_division=4/3\n",
        "print(True_division)"
      ],
      "execution_count": 12,
      "outputs": [
        {
          "output_type": "stream",
          "text": [
            "1.3333333333333333\n"
          ],
          "name": "stdout"
        }
      ]
    },
    {
      "cell_type": "code",
      "metadata": {
        "id": "RJxAx_rZ5ldT",
        "outputId": "ae28f949-9f4f-4f63-f244-926e7c61cd34",
        "colab": {
          "base_uri": "https://localhost:8080/",
          "height": 34
        }
      },
      "source": [
        "Floor_division=4//3\n",
        "print(Floor_division)"
      ],
      "execution_count": 13,
      "outputs": [
        {
          "output_type": "stream",
          "text": [
            "1\n"
          ],
          "name": "stdout"
        }
      ]
    },
    {
      "cell_type": "code",
      "metadata": {
        "id": "KzPfzbqH50oy",
        "outputId": "16eed8e7-2139-4e87-8e64-e434d9cead61",
        "colab": {
          "base_uri": "https://localhost:8080/",
          "height": 34
        }
      },
      "source": [
        "remainder=12%6\n",
        "print(remainder)"
      ],
      "execution_count": 14,
      "outputs": [
        {
          "output_type": "stream",
          "text": [
            "0\n"
          ],
          "name": "stdout"
        }
      ]
    },
    {
      "cell_type": "markdown",
      "metadata": {
        "id": "dHiRehNb6BFF"
      },
      "source": [
        "\n",
        "**IF STATEMENT**"
      ]
    },
    {
      "cell_type": "code",
      "metadata": {
        "id": "NvMgJ2456HIx",
        "outputId": "9b91abc4-95f4-4eb0-b3a3-43b3feaf84de",
        "colab": {
          "base_uri": "https://localhost:8080/",
          "height": 34
        }
      },
      "source": [
        "mark=70\n",
        "if mark>=50:\n",
        "  print(\"passed\")"
      ],
      "execution_count": 15,
      "outputs": [
        {
          "output_type": "stream",
          "text": [
            "passed\n"
          ],
          "name": "stdout"
        }
      ]
    },
    {
      "cell_type": "markdown",
      "metadata": {
        "id": "p_7Le-ZF6QDh"
      },
      "source": [
        "\n",
        "**IF ELSE STATEMENT**"
      ]
    },
    {
      "cell_type": "code",
      "metadata": {
        "id": "BG0x5yDR6WK6",
        "outputId": "285d7341-c5be-46d8-c452-bafea73df79c",
        "colab": {
          "base_uri": "https://localhost:8080/",
          "height": 50
        }
      },
      "source": [
        "mark=int(input(\"Enter the mark: \"))\n",
        "if mark>=50:\n",
        "  print(\"passed\")\n",
        "else:\n",
        "   print(\"Fail\")"
      ],
      "execution_count": 18,
      "outputs": [
        {
          "output_type": "stream",
          "text": [
            "Enter the mark: 33\n",
            "Fail\n"
          ],
          "name": "stdout"
        }
      ]
    },
    {
      "cell_type": "markdown",
      "metadata": {
        "id": "wNujq8Hy7kQd"
      },
      "source": [
        "\n",
        "**CONDITIONAL EXPRESION**"
      ]
    },
    {
      "cell_type": "code",
      "metadata": {
        "id": "2GWNM1If7quw",
        "outputId": "aeb3cdf1-2092-447f-e8d9-223bef02e5d8",
        "colab": {
          "base_uri": "https://localhost:8080/",
          "height": 34
        }
      },
      "source": [
        "result=('passed' if mark>=50 else 'Failed')\n",
        "print(result)"
      ],
      "execution_count": 19,
      "outputs": [
        {
          "output_type": "stream",
          "text": [
            "Failed\n"
          ],
          "name": "stdout"
        }
      ]
    },
    {
      "cell_type": "markdown",
      "metadata": {
        "id": "Q5CwZfGf7zfi"
      },
      "source": [
        "\n",
        "**IF...ELIF..ELSE STATEMENT**"
      ]
    },
    {
      "cell_type": "code",
      "metadata": {
        "id": "RVNYM-OW73kw",
        "outputId": "b8697bd5-b2fc-406f-b490-909ebb46eedd",
        "colab": {
          "base_uri": "https://localhost:8080/",
          "height": 50
        }
      },
      "source": [
        "mark=int(input(\"Enter the marks: \"))\n",
        "if mark>=80:\n",
        "   print('A+')\n",
        "elif mark>=75:\n",
        "  print('A')\n",
        "elif mark>=70:\n",
        "  print('A-')\n",
        "elif mark>=65:\n",
        "   print('B+')\n",
        "elif mark>=60:\n",
        "  print('B')\n",
        "elif mark>=55:\n",
        "  print('C+')\n",
        "elif mark>=50:\n",
        "  print('C')\n",
        "elif mark>=45:\n",
        "  print('D+')\n",
        "elif mark>=40:\n",
        "  print('D')\n",
        "else:\n",
        "  print('F')"
      ],
      "execution_count": 20,
      "outputs": [
        {
          "output_type": "stream",
          "text": [
            "Enter the marks: 45\n",
            "D+\n"
          ],
          "name": "stdout"
        }
      ]
    },
    {
      "cell_type": "markdown",
      "metadata": {
        "id": "J4n4T9hT8P6R"
      },
      "source": [
        "\n",
        "**WHILE STATEMENT**"
      ]
    },
    {
      "cell_type": "code",
      "metadata": {
        "id": "vul2lwRb8TXw",
        "outputId": "26e5c1c2-8302-497c-cae2-7334d20a26ae",
        "colab": {
          "base_uri": "https://localhost:8080/",
          "height": 50
        }
      },
      "source": [
        "num=int(input(\"Enter the number: \"))\n",
        "while (num<=10):\n",
        "  print(num, end=\" \")\n",
        "  num+=1"
      ],
      "execution_count": 21,
      "outputs": [
        {
          "output_type": "stream",
          "text": [
            "Enter the number: 2\n",
            "2 3 4 5 6 7 8 9 10 "
          ],
          "name": "stdout"
        }
      ]
    },
    {
      "cell_type": "markdown",
      "metadata": {
        "id": "4InqbMGm8ft5"
      },
      "source": [
        "**while statement to find the first power of 3 larger than 50:**"
      ]
    },
    {
      "cell_type": "code",
      "metadata": {
        "id": "bFN6E7lx8i2E",
        "outputId": "03dddfb7-8c73-4b2d-9ddc-250b3be5f6de",
        "colab": {
          "base_uri": "https://localhost:8080/",
          "height": 50
        }
      },
      "source": [
        "product =int(input(\"Enter the number: \"))\n",
        "\n",
        "while product<=40:\n",
        "  product = product*2\n",
        "print(product)"
      ],
      "execution_count": 22,
      "outputs": [
        {
          "output_type": "stream",
          "text": [
            "Enter the number: 2\n",
            "64\n"
          ],
          "name": "stdout"
        }
      ]
    },
    {
      "cell_type": "markdown",
      "metadata": {
        "id": "9GtXybOa8yr6"
      },
      "source": [
        "**For statement**"
      ]
    },
    {
      "cell_type": "code",
      "metadata": {
        "id": "D0aF5xHw81hJ",
        "outputId": "b6c7646b-2e5c-4629-cb07-102aaeaa781c",
        "colab": {
          "base_uri": "https://localhost:8080/",
          "height": 34
        }
      },
      "source": [
        "for character in \"anika\":\n",
        "  print(character, end=\" \")"
      ],
      "execution_count": 23,
      "outputs": [
        {
          "output_type": "stream",
          "text": [
            "a n i k a "
          ],
          "name": "stdout"
        }
      ]
    },
    {
      "cell_type": "markdown",
      "metadata": {
        "id": "AuOIUqVc9YMJ"
      },
      "source": [
        "\n",
        "**Built in Range Function**"
      ]
    },
    {
      "cell_type": "code",
      "metadata": {
        "id": "lUTnq1Dd9bx8",
        "outputId": "c8d22c99-77c0-4f2c-bc3a-4234fd5e6635",
        "colab": {
          "base_uri": "https://localhost:8080/",
          "height": 34
        }
      },
      "source": [
        "for counter in range(10):\n",
        "  print(counter, end=\" \")"
      ],
      "execution_count": 26,
      "outputs": [
        {
          "output_type": "stream",
          "text": [
            "0 1 2 3 4 5 6 7 8 9 "
          ],
          "name": "stdout"
        }
      ]
    },
    {
      "cell_type": "markdown",
      "metadata": {
        "id": "iuc7IdDc9lpo"
      },
      "source": [
        "**Nested For Loop**"
      ]
    },
    {
      "cell_type": "code",
      "metadata": {
        "id": "ucQj99GW9obx",
        "outputId": "659ffce5-f8fc-4db4-ec18-bd3cea992e6d",
        "colab": {
          "base_uri": "https://localhost:8080/",
          "height": 134
        }
      },
      "source": [
        "n=int(input(\"Enter the number: \"))\n",
        "for left in range(n):\n",
        "    for right in range(left,n):\n",
        "        print(\"[\"+str(left)+\"|\"+str(right)+\"]\", end =\" \")\n",
        "    print()"
      ],
      "execution_count": 27,
      "outputs": [
        {
          "output_type": "stream",
          "text": [
            "Enter the number: 6\n",
            "[0|0] [0|1] [0|2] [0|3] [0|4] [0|5] \n",
            "[1|1] [1|2] [1|3] [1|4] [1|5] \n",
            "[2|2] [2|3] [2|4] [2|5] \n",
            "[3|3] [3|4] [3|5] \n",
            "[4|4] [4|5] \n",
            "[5|5] \n"
          ],
          "name": "stdout"
        }
      ]
    },
    {
      "cell_type": "markdown",
      "metadata": {
        "id": "hxJCxaIN952T"
      },
      "source": [
        "**Break statement**"
      ]
    },
    {
      "cell_type": "code",
      "metadata": {
        "id": "h0uUBY6f9_B6",
        "outputId": "37f06dd5-5e21-46e0-eb32-8679b531fb97",
        "colab": {
          "base_uri": "https://localhost:8080/",
          "height": 50
        }
      },
      "source": [
        "n=int(input(\"Enter the number: \"))\n",
        "for number in range(n):\n",
        "  if  number==7:\n",
        "    break\n",
        "  print(number, end=\" \")"
      ],
      "execution_count": 28,
      "outputs": [
        {
          "output_type": "stream",
          "text": [
            "Enter the number: 8\n",
            "0 1 2 3 4 5 6 "
          ],
          "name": "stdout"
        }
      ]
    },
    {
      "cell_type": "markdown",
      "metadata": {
        "id": "y_BL3ka7-Oyq"
      },
      "source": [
        "**Continue statement**"
      ]
    },
    {
      "cell_type": "code",
      "metadata": {
        "id": "p6OCUU1P-aaz",
        "outputId": "ad5007c0-7a19-465d-9cc9-3c5fd3f6cddf",
        "colab": {
          "base_uri": "https://localhost:8080/",
          "height": 50
        }
      },
      "source": [
        "n=int(input(\"Enter the range: \"))\n",
        "for number in range(n):\n",
        "  if  number==7:\n",
        "    continue\n",
        "  print(number, end=\" \")"
      ],
      "execution_count": 29,
      "outputs": [
        {
          "output_type": "stream",
          "text": [
            "Enter the range: 8\n",
            "0 1 2 3 4 5 6 "
          ],
          "name": "stdout"
        }
      ]
    },
    {
      "cell_type": "markdown",
      "metadata": {
        "id": "oXdRu8Cs-qDX"
      },
      "source": [
        "\n",
        "**uri problem solve Extremely basic**"
      ]
    },
    {
      "cell_type": "code",
      "metadata": {
        "id": "OE-kizKo-xIg",
        "outputId": "e36738ff-9384-460d-bece-f870799328c8",
        "colab": {
          "base_uri": "https://localhost:8080/",
          "height": 67
        }
      },
      "source": [
        "m1 = int(input())\n",
        "m2 = int(input())\n",
        "x = m1 + m2\n",
        "print(\"X = %i\"% x)"
      ],
      "execution_count": 30,
      "outputs": [
        {
          "output_type": "stream",
          "text": [
            "10\n",
            "8\n",
            "X = 18\n"
          ],
          "name": "stdout"
        }
      ]
    },
    {
      "cell_type": "markdown",
      "metadata": {
        "id": "SsrxTlrX-9Sm"
      },
      "source": [
        "**uri problem Area of circle**"
      ]
    },
    {
      "cell_type": "code",
      "metadata": {
        "id": "uKkCRV3c_AQl",
        "outputId": "3cfe8f10-34e1-461c-8b98-46840887fed1",
        "colab": {
          "base_uri": "https://localhost:8080/",
          "height": 50
        }
      },
      "source": [
        "raio=float(input())\n",
        "\n",
        "area=(raio*raio)*3.1416\n",
        "print(\"A=%0.4f\"%area)"
      ],
      "execution_count": 31,
      "outputs": [
        {
          "output_type": "stream",
          "text": [
            "4\n",
            "A=50.2656\n"
          ],
          "name": "stdout"
        }
      ]
    },
    {
      "cell_type": "markdown",
      "metadata": {
        "id": "xi87Whas_MWC"
      },
      "source": [
        "**uri problem solveDifference**"
      ]
    },
    {
      "cell_type": "code",
      "metadata": {
        "id": "17HZGpvN_Oq_",
        "outputId": "94d470c2-b247-4ae6-f224-1ec0ce6029e6",
        "colab": {
          "base_uri": "https://localhost:8080/",
          "height": 101
        }
      },
      "source": [
        "m1= int(input())\n",
        "m2= int(input())\n",
        "m3= int(input())\n",
        "m4= int(input())\n",
        "\n",
        "difference=((m1 * m2) - (m3 * m4))\n",
        "\n",
        "print(\"DIFERENCA = %d\" %difference)"
      ],
      "execution_count": 32,
      "outputs": [
        {
          "output_type": "stream",
          "text": [
            "3\n",
            "4\n",
            "5\n",
            "6\n",
            "DIFERENCA = -18\n"
          ],
          "name": "stdout"
        }
      ]
    },
    {
      "cell_type": "markdown",
      "metadata": {
        "id": "vtvmkCGi_ZN9"
      },
      "source": [
        "\n",
        "**Age in Days uri problem solve**"
      ]
    },
    {
      "cell_type": "code",
      "metadata": {
        "id": "pEvxZqfE_cBG",
        "outputId": "2d8d3b8e-ac4b-46fe-b4dc-3326f36b3b6f",
        "colab": {
          "base_uri": "https://localhost:8080/",
          "height": 84
        }
      },
      "source": [
        "n= int(input())\n",
        "a = n / 365\n",
        "rA = n % 365\n",
        "rM = rA % 30\n",
        "m = rA / 30\n",
        "d = rM % 30\n",
        "print(\"{} ano(s)\".format(int(a)))\n",
        "print(\"{} mes(es)\".format(int(m)))\n",
        "print(\"{} dia(s)\".format(int(d)))"
      ],
      "execution_count": 33,
      "outputs": [
        {
          "output_type": "stream",
          "text": [
            "300\n",
            "0 ano(s)\n",
            "10 mes(es)\n",
            "0 dia(s)\n"
          ],
          "name": "stdout"
        }
      ]
    }
  ]
}