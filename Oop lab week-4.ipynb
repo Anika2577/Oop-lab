{
  "nbformat": 4,
  "nbformat_minor": 0,
  "metadata": {
    "colab": {
      "name": "Untitled2.ipynb",
      "provenance": [],
      "authorship_tag": "ABX9TyNz6LNomXDiumAQHzup1eSA",
      "include_colab_link": true
    },
    "kernelspec": {
      "name": "python3",
      "display_name": "Python 3"
    }
  },
  "cells": [
    {
      "cell_type": "markdown",
      "metadata": {
        "id": "view-in-github",
        "colab_type": "text"
      },
      "source": [
        "<a href=\"https://colab.research.google.com/github/Anika2577/Oop-lab/blob/main/Oop%20lab%20week-4.ipynb\" target=\"_parent\"><img src=\"https://colab.research.google.com/assets/colab-badge.svg\" alt=\"Open In Colab\"/></a>"
      ]
    },
    {
      "cell_type": "markdown",
      "metadata": {
        "id": "KX5cdDDYPHHw"
      },
      "source": [
        "**Creating list**"
      ]
    },
    {
      "cell_type": "code",
      "metadata": {
        "id": "_HRpHPaLPMgJ",
        "outputId": "99f375cd-ea2c-4f23-c6c0-286d67e7b45a",
        "colab": {
          "base_uri": "https://localhost:8080/",
          "height": 67
        }
      },
      "source": [
        "m1=[1,2,3,32,2.23,43.23,\"python\",[2,32,3]]\n",
        "print(m1)\n",
        "m2=[]\n",
        "print(m2)\n",
        "m3=list()\n",
        "print(m3)"
      ],
      "execution_count": 1,
      "outputs": [
        {
          "output_type": "stream",
          "text": [
            "[1, 2, 3, 32, 2.23, 43.23, 'python', [2, 32, 3]]\n",
            "[]\n",
            "[]\n"
          ],
          "name": "stdout"
        }
      ]
    },
    {
      "cell_type": "markdown",
      "metadata": {
        "id": "1sTCQAyhPcd_"
      },
      "source": [
        "\n",
        "**Iterating list**"
      ]
    },
    {
      "cell_type": "code",
      "metadata": {
        "id": "eC3orqb2PjZw",
        "outputId": "c242c28f-87be-4ce9-b74b-193d951de05f",
        "colab": {
          "base_uri": "https://localhost:8080/",
          "height": 34
        }
      },
      "source": [
        "m=[1,2,3,32,2.23,43.23,\"python\",[2,32,3]]\n",
        "for i in m:\n",
        "    print(i,end=' ')\n",
        "print('')"
      ],
      "execution_count": 2,
      "outputs": [
        {
          "output_type": "stream",
          "text": [
            "1 2 3 32 2.23 43.23 python [2, 32, 3] \n"
          ],
          "name": "stdout"
        }
      ]
    },
    {
      "cell_type": "markdown",
      "metadata": {
        "id": "_p1dKlx4Ptwl"
      },
      "source": [
        "\n",
        "**Iterating list**"
      ]
    },
    {
      "cell_type": "code",
      "metadata": {
        "id": "_3cH9c9bPxct",
        "outputId": "1c75b1e4-e1f5-4944-a9af-77a9f6b080fd",
        "colab": {
          "base_uri": "https://localhost:8080/",
          "height": 67
        }
      },
      "source": [
        "m=[1,2,3,32,2.23,43.23,\"python\",[2,32,3]]\n",
        "print(m[2])\n",
        "print(m[6])\n",
        "print(m[-2])"
      ],
      "execution_count": 3,
      "outputs": [
        {
          "output_type": "stream",
          "text": [
            "3\n",
            "python\n",
            "python\n"
          ],
          "name": "stdout"
        }
      ]
    },
    {
      "cell_type": "markdown",
      "metadata": {
        "id": "47roh10UP64V"
      },
      "source": [
        "**List operations**"
      ]
    },
    {
      "cell_type": "code",
      "metadata": {
        "id": "kM4WW5uOP-6s",
        "outputId": "2dc71b29-686e-4071-f67e-7806cb720b4f",
        "colab": {
          "base_uri": "https://localhost:8080/",
          "height": 168
        }
      },
      "source": [
        "m1=[1,2,3,32,2.23,43.23,\"python\",[2,32,3]]\n",
        "\n",
        "print(len(m1))                \n",
        "\n",
        "m1.append([12,2,12,2])        \n",
        "print(m1)\n",
        "\n",
        "m1.insert(2,\"pandas\")         \n",
        "print(m1)\n",
        "\n",
        "m1.remove(3)                 \n",
        "print(m1)\n",
        "\n",
        "print(m1.index(\"python\"))     \n",
        "\n",
        "print(m1.count('pandas'))     \n",
        "\n",
        "print(m1.reverse())           \n",
        "\n",
        "m2=m1.copy()                \n",
        "print(m2)\n",
        "\n",
        "m1.clear()                    \n",
        "print(m1)"
      ],
      "execution_count": 4,
      "outputs": [
        {
          "output_type": "stream",
          "text": [
            "8\n",
            "[1, 2, 3, 32, 2.23, 43.23, 'python', [2, 32, 3], [12, 2, 12, 2]]\n",
            "[1, 2, 'pandas', 3, 32, 2.23, 43.23, 'python', [2, 32, 3], [12, 2, 12, 2]]\n",
            "[1, 2, 'pandas', 32, 2.23, 43.23, 'python', [2, 32, 3], [12, 2, 12, 2]]\n",
            "6\n",
            "1\n",
            "None\n",
            "[[12, 2, 12, 2], [2, 32, 3], 'python', 43.23, 2.23, 32, 'pandas', 2, 1]\n",
            "[]\n"
          ],
          "name": "stdout"
        }
      ]
    },
    {
      "cell_type": "markdown",
      "metadata": {
        "id": "XIcL1QRoQHYT"
      },
      "source": [
        "**lsit slicing**"
      ]
    },
    {
      "cell_type": "code",
      "metadata": {
        "id": "ZQr598DxQK4z",
        "outputId": "72e5a6f6-72fd-40cb-b698-1155ed186768",
        "colab": {
          "base_uri": "https://localhost:8080/",
          "height": 84
        }
      },
      "source": [
        "m=[1,2,3,32,2.23,43.23,\"python\",[2,32,3]]\n",
        "\n",
        "print(m[2:7])\n",
        "print(m[2:])\n",
        "print(m[:5])\n",
        "print(m[:])"
      ],
      "execution_count": 5,
      "outputs": [
        {
          "output_type": "stream",
          "text": [
            "[3, 32, 2.23, 43.23, 'python']\n",
            "[3, 32, 2.23, 43.23, 'python', [2, 32, 3]]\n",
            "[1, 2, 3, 32, 2.23]\n",
            "[1, 2, 3, 32, 2.23, 43.23, 'python', [2, 32, 3]]\n"
          ],
          "name": "stdout"
        }
      ]
    },
    {
      "cell_type": "markdown",
      "metadata": {
        "id": "iShZriQAoc2Q"
      },
      "source": [
        "**list sorting**"
      ]
    },
    {
      "cell_type": "code",
      "metadata": {
        "id": "LQyMgwaP1R-g",
        "outputId": "23aba80c-0527-40f8-84b6-f0b1dad97729",
        "colab": {
          "base_uri": "https://localhost:8080/",
          "height": 67
        }
      },
      "source": [
        "lst2=[1,2,4,2,4,2,4,2,5,6,7,4]\n",
        "\n",
        "lst3=sorted(lst2)\n",
        "print(lst3)\n",
        "print(lst2)\n",
        "lst2.sort()\n",
        "print(lst2)"
      ],
      "execution_count": 1,
      "outputs": [
        {
          "output_type": "stream",
          "text": [
            "[1, 2, 2, 2, 2, 4, 4, 4, 4, 5, 6, 7]\n",
            "[1, 2, 4, 2, 4, 2, 4, 2, 5, 6, 7, 4]\n",
            "[1, 2, 2, 2, 2, 4, 4, 4, 4, 5, 6, 7]\n"
          ],
          "name": "stdout"
        }
      ]
    },
    {
      "cell_type": "markdown",
      "metadata": {
        "id": "CW508dAo1bOZ"
      },
      "source": [
        "\n",
        "**creating tuple**"
      ]
    },
    {
      "cell_type": "code",
      "metadata": {
        "id": "_cKE3prO1hNA",
        "outputId": "81f6ce28-fa53-44e8-a955-2d81ce02308e",
        "colab": {
          "base_uri": "https://localhost:8080/",
          "height": 67
        }
      },
      "source": [
        "m=(1,2,3,32,2.23,43.23,\"python\",[2,32,3])\n",
        "print(m)\n",
        "m1=()\n",
        "print(m1)\n",
        "m2=tuple()\n",
        "print(m2)"
      ],
      "execution_count": 2,
      "outputs": [
        {
          "output_type": "stream",
          "text": [
            "(1, 2, 3, 32, 2.23, 43.23, 'python', [2, 32, 3])\n",
            "()\n",
            "()\n"
          ],
          "name": "stdout"
        }
      ]
    },
    {
      "cell_type": "markdown",
      "metadata": {
        "id": "mNYgcaR01np5"
      },
      "source": [
        "\n",
        "**Iterating tuple**"
      ]
    },
    {
      "cell_type": "code",
      "metadata": {
        "id": "Ry9RM9OV10iw",
        "outputId": "190cff1b-f185-4554-80b4-0385835200ff",
        "colab": {
          "base_uri": "https://localhost:8080/",
          "height": 34
        }
      },
      "source": [
        "m0=(1,2,3,32,2.23,43.23,\"python\",[2,32,3])\n",
        "for i in m0:\n",
        "    print(i,end=' ')\n",
        "print('')"
      ],
      "execution_count": 3,
      "outputs": [
        {
          "output_type": "stream",
          "text": [
            "1 2 3 32 2.23 43.23 python [2, 32, 3] \n"
          ],
          "name": "stdout"
        }
      ]
    },
    {
      "cell_type": "markdown",
      "metadata": {
        "id": "vIFfNT2e4Gka"
      },
      "source": [
        "\n",
        "**Iterating tuple**"
      ]
    },
    {
      "cell_type": "code",
      "metadata": {
        "id": "odYGziZK4KeY",
        "outputId": "5df169c8-b69d-459e-ce69-d3fc0898dda6",
        "colab": {
          "base_uri": "https://localhost:8080/",
          "height": 67
        }
      },
      "source": [
        "m0=(1,2,3,32,2.23,43.23,\"python\",[2,32,3])\n",
        "print(m0[2])\n",
        "print(m0[6])\n",
        "print(m[-2])"
      ],
      "execution_count": 4,
      "outputs": [
        {
          "output_type": "stream",
          "text": [
            "3\n",
            "python\n",
            "python\n"
          ],
          "name": "stdout"
        }
      ]
    },
    {
      "cell_type": "markdown",
      "metadata": {
        "id": "OwdMYTlP4c1i"
      },
      "source": [
        "**Inserting into tuple**"
      ]
    },
    {
      "cell_type": "code",
      "metadata": {
        "id": "adQmeA954gEA",
        "outputId": "81ec4b2c-ecc2-4c74-e20d-0bcbba6fe35e",
        "colab": {
          "base_uri": "https://localhost:8080/",
          "height": 34
        }
      },
      "source": [
        "m0=(1,2,3,32,2.23,43.23,\"python\",[2,32,3])\n",
        "m0+=(\"pandas\",232,3,232,3)\n",
        "print(m0)"
      ],
      "execution_count": 5,
      "outputs": [
        {
          "output_type": "stream",
          "text": [
            "(1, 2, 3, 32, 2.23, 43.23, 'python', [2, 32, 3], 'pandas', 232, 3, 232, 3)\n"
          ],
          "name": "stdout"
        }
      ]
    },
    {
      "cell_type": "markdown",
      "metadata": {
        "id": "kE5hr8MK4oqY"
      },
      "source": [
        "**unpacking sequences**"
      ]
    },
    {
      "cell_type": "code",
      "metadata": {
        "id": "Q9-7juoA4s4S",
        "outputId": "c174cce6-48a8-4dd8-db9c-f38d80ebf018",
        "colab": {
          "base_uri": "https://localhost:8080/",
          "height": 84
        }
      },
      "source": [
        "m=[5,7,112,33]\n",
        "a,b,c,d=m\n",
        "print(a)\n",
        "print(b)\n",
        "print(c)\n",
        "print(d)"
      ],
      "execution_count": 6,
      "outputs": [
        {
          "output_type": "stream",
          "text": [
            "5\n",
            "7\n",
            "112\n",
            "33\n"
          ],
          "name": "stdout"
        }
      ]
    },
    {
      "cell_type": "markdown",
      "metadata": {
        "id": "ylrrLOJR5N2v"
      },
      "source": [
        "**unpacking sequences**\n",
        "\n"
      ]
    },
    {
      "cell_type": "code",
      "metadata": {
        "id": "A4biz08Z5UNQ",
        "outputId": "d3984682-4c94-4989-ba5e-67f6d25ac71f",
        "colab": {
          "base_uri": "https://localhost:8080/",
          "height": 84
        }
      },
      "source": [
        "m=(2,3,423,43)\n",
        "a,b,c,d=m\n",
        "print(a)\n",
        "print(b)\n",
        "print(c)\n",
        "print(d)"
      ],
      "execution_count": 7,
      "outputs": [
        {
          "output_type": "stream",
          "text": [
            "2\n",
            "3\n",
            "423\n",
            "43\n"
          ],
          "name": "stdout"
        }
      ]
    }
  ]
}